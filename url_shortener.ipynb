{
  "nbformat": 4,
  "nbformat_minor": 0,
  "metadata": {
    "colab": {
      "provenance": []
    },
    "kernelspec": {
      "name": "python3",
      "display_name": "Python 3"
    },
    "language_info": {
      "name": "python"
    }
  },
  "cells": [
    {
      "cell_type": "code",
      "execution_count": 2,
      "metadata": {
        "colab": {
          "base_uri": "https://localhost:8080/"
        },
        "id": "STDfQdqgB9C1",
        "outputId": "e6e4672e-5900-41f8-880d-f2826e93d7a7"
      },
      "outputs": [
        {
          "output_type": "stream",
          "name": "stdout",
          "text": [
            "Looking in indexes: https://pypi.org/simple, https://us-python.pkg.dev/colab-wheels/public/simple/\n",
            "Collecting pyshorteners\n",
            "  Downloading pyshorteners-1.0.1.tar.gz (10.0 kB)\n",
            "  Preparing metadata (setup.py) ... \u001b[?25l\u001b[?25hdone\n",
            "Requirement already satisfied: requests in /usr/local/lib/python3.10/dist-packages (from pyshorteners) (2.27.1)\n",
            "Requirement already satisfied: urllib3<1.27,>=1.21.1 in /usr/local/lib/python3.10/dist-packages (from requests->pyshorteners) (1.26.15)\n",
            "Requirement already satisfied: certifi>=2017.4.17 in /usr/local/lib/python3.10/dist-packages (from requests->pyshorteners) (2022.12.7)\n",
            "Requirement already satisfied: charset-normalizer~=2.0.0 in /usr/local/lib/python3.10/dist-packages (from requests->pyshorteners) (2.0.12)\n",
            "Requirement already satisfied: idna<4,>=2.5 in /usr/local/lib/python3.10/dist-packages (from requests->pyshorteners) (3.4)\n",
            "Building wheels for collected packages: pyshorteners\n",
            "  Building wheel for pyshorteners (setup.py) ... \u001b[?25l\u001b[?25hdone\n",
            "  Created wheel for pyshorteners: filename=pyshorteners-1.0.1-py3-none-any.whl size=17479 sha256=0390f0673a980d753730668ddbec1c84d5128fddc69360b2739bffbae7a7a28b\n",
            "  Stored in directory: /root/.cache/pip/wheels/d5/ff/b3/16d8906f92ab0b042f76a4696fcea11d291d79a2b3a3de1e78\n",
            "Successfully built pyshorteners\n",
            "Installing collected packages: pyshorteners\n",
            "Successfully installed pyshorteners-1.0.1\n"
          ]
        }
      ],
      "source": [
        "pip install pyshorteners"
      ]
    },
    {
      "cell_type": "code",
      "source": [
        "import pyshorteners\n",
        "link=input(\"Enter url\")\n",
        "s=pyshorteners.Shortener()\n",
        "x=s.tinyurl.short(link)"
      ],
      "metadata": {
        "colab": {
          "base_uri": "https://localhost:8080/"
        },
        "id": "Z7hCFqUmC8Xy",
        "outputId": "d6d9477c-0869-4986-c327-0f88b82cc0ef"
      },
      "execution_count": 4,
      "outputs": [
        {
          "name": "stdout",
          "output_type": "stream",
          "text": [
            "Enter urlhttps://mail.google.com/mail/u/0/?tab=rm&ogbl#inbox/FMfcgzGsmhXqQhtkQgRfkRGDMSxGbWXs?projector=1&messagePartId=0.1\n"
          ]
        }
      ]
    },
    {
      "cell_type": "code",
      "source": [
        "print(x)"
      ],
      "metadata": {
        "colab": {
          "base_uri": "https://localhost:8080/"
        },
        "id": "RMZLDFCLDisp",
        "outputId": "04b7c8d8-781b-49cb-cbb9-278ce190f926"
      },
      "execution_count": 5,
      "outputs": [
        {
          "output_type": "stream",
          "name": "stdout",
          "text": [
            "https://tinyurl.com/2zutuxrc\n"
          ]
        }
      ]
    },
    {
      "cell_type": "code",
      "source": [
        "import sqlite3\n",
        "\n",
        "def create_table():\n",
        "    conn = sqlite3.connect('links.db')\n",
        "    c = conn.cursor()\n",
        "    c.execute('''CREATE TABLE IF NOT EXISTS links\n",
        "                 (id INTEGER PRIMARY KEY AUTOINCREMENT, url)''')\n",
        "    conn.commit()\n",
        "    conn.close()\n",
        "\n",
        "def insert_link(url):\n",
        "    conn = sqlite3.connect('links.db')\n",
        "    c = conn.cursor()\n",
        "    c.execute('INSERT INTO links (url) VALUES (?)', (url,))\n",
        "    conn.commit()\n",
        "    conn.close()\n",
        "\n",
        "def get_links():\n",
        "    conn = sqlite3.connect('links.db')\n",
        "    c = conn.cursor()\n",
        "    c.execute('SELECT * FROM links')\n",
        "    results = c.fetchall()\n",
        "    conn.close()\n",
        "    return [r[1] for r in results]\n",
        "\n",
        "create_table()\n",
        "insert_link(x)\n",
        "links=get_links()\n",
        "print(links)"
      ],
      "metadata": {
        "colab": {
          "base_uri": "https://localhost:8080/"
        },
        "id": "KXzZVtN2D2sx",
        "outputId": "7fac4dd6-7f33-4bec-c451-00b3ddcf1a42"
      },
      "execution_count": 12,
      "outputs": [
        {
          "output_type": "stream",
          "name": "stdout",
          "text": [
            "['https://tinyurl.com/2zutuxrc', 'https://tinyurl.com/2zutuxrc', 'https://tinyurl.com/2zutuxrc']\n"
          ]
        }
      ]
    },
    {
      "cell_type": "code",
      "source": [],
      "metadata": {
        "id": "4igz2josFFzV"
      },
      "execution_count": null,
      "outputs": []
    },
    {
      "cell_type": "code",
      "source": [],
      "metadata": {
        "id": "93l1ZpeBD21h"
      },
      "execution_count": null,
      "outputs": []
    }
  ]
}